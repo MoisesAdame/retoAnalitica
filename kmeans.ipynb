{
 "cells": [
  {
   "cell_type": "code",
   "execution_count": 9,
   "metadata": {},
   "outputs": [],
   "source": [
    "import random as rd\n",
    "import pandas as pd\n",
    "import numpy as np\n",
    "\n",
    "def dist(p1, p2):\n",
    "    return ((p1[0] - p2[0])**2 + (p1[1] - p2[1])**2)**0.5"
   ]
  },
  {
   "cell_type": "code",
   "execution_count": 130,
   "metadata": {},
   "outputs": [],
   "source": [
    "class KMeans():\n",
    "    # Constructor method for Kmeans\n",
    "    def __init__(self, n_clusters):\n",
    "        self.n_clusters = n_clusters\n",
    "        self.cluster_centers_ = np.array\n",
    "    \n",
    "    def fit(self, pairs):\n",
    "        clusters = {}\n",
    "        centers = []\n",
    "\n",
    "        # Loop that creates a random of n centroids\n",
    "        for num_cluster in range(self.n_clusters):\n",
    "            centers.append([rd.uniform(-100, 100), rd.uniform(-100, 100)])\n",
    "            clusters[num_cluster] = []\n",
    "        self.cluster_centers_ = np.array(centers)\n",
    "\n",
    "        # Checks wich centroid is closer.\n",
    "        for i in range(100):\n",
    "            for entry in pairs:\n",
    "                dists = []\n",
    "                for centroid in self.cluster_centers_:\n",
    "                    dists.append(dist(entry, centroid)) \n",
    "                    print(clusters[0])\n",
    "                    clusters[dists.index(max(dists))].append(entry)\n",
    "\n",
    "            # To numpy arrays\n",
    "            for num_cluster in range(self.n_clusters):\n",
    "                clusters[num_cluster] = np.array(clusters[num_cluster])\n",
    "\n",
    "            self.centroids(clusters)\n",
    "                \n",
    "        return clusters\n",
    "    \n",
    "    def centroids(self, clusters):\n",
    "        centers = []\n",
    "        for num_cluster in range(self.n_clusters):\n",
    "            current_x = clusters[num_cluster][:, 0]\n",
    "            current_y = clusters[num_cluster][:, 1]\n",
    "            centers.append([current_x.sum() / current_x.size, current_y.sum() / current_y.size])\n",
    "\n",
    "        self.cluster_centers_ = np.array(centers)\n",
    "    "
   ]
  },
  {
   "cell_type": "code",
   "execution_count": 131,
   "metadata": {},
   "outputs": [],
   "source": [
    "df = pd.read_csv(\"covid19_tweets.csv\")\n",
    "pairs = []\n",
    "for i in range(len(df['user_followers'])):\n",
    "    pairs.append([df['user_followers'][i], df['user_friends'][i]])\n",
    "\n",
    "pairs = np.array(pairs)\n",
    "\n",
    "fit = KMeans(3)\n",
    "clusts = fit.fit(pairs)\n"
   ]
  },
  {
   "cell_type": "code",
   "execution_count": 123,
   "metadata": {},
   "outputs": [
    {
     "data": {
      "text/plain": [
       "7907044552.0"
      ]
     },
     "execution_count": 123,
     "metadata": {},
     "output_type": "execute_result"
    }
   ],
   "source": [
    "clusts"
   ]
  }
 ],
 "metadata": {
  "kernelspec": {
   "display_name": "base",
   "language": "python",
   "name": "python3"
  },
  "language_info": {
   "codemirror_mode": {
    "name": "ipython",
    "version": 3
   },
   "file_extension": ".py",
   "mimetype": "text/x-python",
   "name": "python",
   "nbconvert_exporter": "python",
   "pygments_lexer": "ipython3",
   "version": "3.11.4"
  },
  "orig_nbformat": 4
 },
 "nbformat": 4,
 "nbformat_minor": 2
}
