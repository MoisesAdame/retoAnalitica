{
 "cells": [
  {
   "cell_type": "markdown",
   "metadata": {},
   "source": [
    "# Actividad Evaluable: Obtención de estadisticas descriptivas\n",
    "## Covid-19 Tweets\n",
    "### Autores:\n",
    "- Moisés Adame Aguilar (A01660927)\n",
    "- Luis Armando Mandujano Chávez (A01655899)\n",
    "- Antonio Rafael Cedillo Ródriguez (A01656823)"
   ]
  },
  {
   "cell_type": "markdown",
   "metadata": {},
   "source": [
    "1. Carga los datos usando tu lector de csv o con pandas. Es recomendable hacerlo con pandas.\n"
   ]
  },
  {
   "cell_type": "code",
   "execution_count": 23,
   "metadata": {},
   "outputs": [],
   "source": [
    "# Se importa pandas y se utiliza la función read_csv()\n",
    "import pandas as pd\n",
    "df = pd.read_csv('covid19_tweets.csv')"
   ]
  },
  {
   "cell_type": "markdown",
   "metadata": {},
   "source": [
    "2. Verifica la cantidad de datos que tienes, las variables que contiene cada vector de datos e identifica el tipo de variables."
   ]
  },
  {
   "cell_type": "code",
   "execution_count": 24,
   "metadata": {},
   "outputs": [
    {
     "name": "stdout",
     "output_type": "stream",
     "text": [
      "[*] Datos en Data Frame: (74436, 13)\n",
      "[*] Datos en Data Frame: \n",
      "user_name           object\n",
      "user_location       object\n",
      "user_description    object\n",
      "user_created        object\n",
      "user_followers       int64\n",
      "user_friends         int64\n",
      "user_favourites      int64\n",
      "user_verified         bool\n",
      "date                object\n",
      "text                object\n",
      "hashtags            object\n",
      "source              object\n",
      "is_retweet            bool\n",
      "dtype: object\n"
     ]
    }
   ],
   "source": [
    "# Se utiliza el atributo shape de DataFrame para ver la cantidad de datos presentes.\n",
    "print(f'[*] Datos en Data Frame: {df.shape}')\n",
    "\n",
    "# Se utiliza el atributo dtypes de DataFrame para ver las variables y sus tipos.\n",
    "print(f'[*] Datos en Data Frame: \\n{df.dtypes}')"
   ]
  },
  {
   "cell_type": "markdown",
   "metadata": {},
   "source": [
    "3. Analiza las variables para saber que representa cada una y en que rangos se encuentran. Si la descripción del problema no te lo indica, utiliza el máximo y el mínimo para encontrarlo."
   ]
  },
  {
   "cell_type": "markdown",
   "metadata": {},
   "source": [
    "| Nombre de columna | Descripción | Rango (min, max) |\n",
    "| ----------- | ----------- | ----------- |\n",
    "| user_name | Nombre de usuario, se ordena de forma alfabética tomando en cuenta incluso emojis. | Corona, 🪐𝚂𝚝𝚘𝚍𝚒𝚞𝚜 |\n",
    "| user_location | Ubicación del usuario, puede o no ser real. | Sin rango definido. |\n",
    "| user_description | Descripción autogenerada por el usuario sobre sí mismo. | Sin rango definido. |\n",
    "| user_created | Momento exacto de creación del usuario. | 1970-01-01 00:00:00, 2020-08-04 07:29:18 |\n",
    "| user_followers | Número de seguidores del usuario. | 0, 13892841 |\n",
    "| user_friends | Número de amigos del usuario. | 0, 497363 |\n",
    "| user_favourites | Número de publicaciones declaradas como favoritos por el usuario. | 0, 497363 |\n",
    "| user_verified | Booleano que determina si el usuario se encuentra verificado o no en la plataforma. | False, True |\n",
    "| date | Fecha de publicación del tweet. | 2020-07-24 23:47:08, 2020-08-04 07:57:03 |\n",
    "| text | Contenido del tweet, se ordena de forma alfabética tomando en cuenta incluso emojis. | !!! #TWEETofTheDay AND #SCIENCEofTheDay :  #Coronavirus #vaccine: The first #Phase3 #vaccinetrial in the #US is exp… https://t.co/OdNE3n8gtI, 🧼 More ceramic soap dishes and dispensers by artisans in #Cajamarca, #Peru. These skilled ceramic artisans trained… https://t.co/LyhtWRcpE8 |\n",
    "| hashtags | Hashtags utilizados en el tweet. | Sin rango definido. |\n",
    "| source | Pataforma desde la que se publicó el tweet. | Sin rango definido. |\n",
    "| is_retweet | Booleano que deterina si el tweet es un retweet. | False, False |"
   ]
  },
  {
   "cell_type": "code",
   "execution_count": 19,
   "metadata": {},
   "outputs": [
    {
     "name": "stdout",
     "output_type": "stream",
     "text": [
      "[*] user_name:(' Corona', '🪐𝚂𝚝𝚘𝚍𝚒𝚞𝚜')\n",
      "[*] user_location: Not findable range!\n",
      "[*] user_description: Not findable range!\n",
      "[*] user_created:('1970-01-01 00:00:00', '2020-08-04 07:29:18')\n",
      "[*] user_followers:(0, 13892841)\n",
      "[*] user_friends:(0, 497363)\n",
      "[*] user_favourites:(0, 2047197)\n",
      "[*] user_verified:(False, True)\n",
      "[*] date:('2020-07-24 23:47:08', '2020-08-04 07:57:03')\n",
      "[*] text:('!!! #TWEETofTheDay AND #SCIENCEofTheDay :  #Coronavirus #vaccine: The first #Phase3 #vaccinetrial in the #US is exp… https://t.co/OdNE3n8gtI', '🧼 More ceramic soap dishes and dispensers by artisans in #Cajamarca, #Peru. These skilled ceramic artisans trained… https://t.co/LyhtWRcpE8')\n",
      "[*] hashtags: Not findable range!\n",
      "[*] source: Not findable range!\n",
      "[*] is_retweet:(False, False)\n"
     ]
    }
   ],
   "source": [
    "# Función que encuentra el rango de una determinada columna.\n",
    "def range(df, column_name):\n",
    "    return df[column_name].min(), df[column_name].max()\n",
    "\n",
    "# For loop que intenta en cada columna encontrar su rango, si no lo encuentra, imprime que no se pudo.\n",
    "for column in df.columns:\n",
    "    try:\n",
    "        print(f'[*] {column}:{range(df, column)}')\n",
    "    except:\n",
    "        print(f'[*] {column}: Not findable range!')"
   ]
  },
  {
   "cell_type": "markdown",
   "metadata": {},
   "source": [
    "4. Basándose en la media, mediana y desviación estándar de cada variable, que conclusiones puedes entregar de los datos."
   ]
  },
  {
   "cell_type": "code",
   "execution_count": 26,
   "metadata": {},
   "outputs": [
    {
     "name": "stdout",
     "output_type": "stream",
     "text": [
      "[*] user_name: Not findable range!\n",
      "[*] user_location: Not findable range!\n",
      "[*] user_description: Not findable range!\n",
      "[*] user_created: Not findable range!\n",
      "[*] user_followers:(105951.31291310657, 960.0, 822289.9854933644)\n",
      "[*] user_friends:(2154.7211698640444, 552.0, 9365.587473744987)\n",
      "[*] user_favourites:(15297.472029663066, 1927.0, 46689.71429086786)\n",
      "[*] user_verified:(0.12566500080606158, 0.0, 0.3314736557795397)\n",
      "[*] date: Not findable range!\n",
      "[*] text: Not findable range!\n",
      "[*] hashtags: Not findable range!\n",
      "[*] source: Not findable range!\n",
      "[*] is_retweet:(0.0, 0.0, 0.0)\n"
     ]
    }
   ],
   "source": [
    "# Función que encuentra la media, mediana y desviación estándar de una determinada columna.\n",
    "def estadisticos(df, column_name):\n",
    "    return df[column_name].mean(), df[column_name].median(), df[column_name].std()\n",
    "\n",
    "# For loop que intenta en cada columna encontrar su la media, mediana y desviación estándar, si no lo encuentra, imprime que no se pudo.\n",
    "for column in df.columns:\n",
    "    try:\n",
    "        print(f'[*] {column}:{estadisticos(df, column)}')\n",
    "    except:\n",
    "        print(f'[*] {column}: Not findable range!')"
   ]
  },
  {
   "cell_type": "markdown",
   "metadata": {},
   "source": [
    "| Nombre de Columna | Interpretación |\n",
    "| ----------- | ----------- |\n",
    "| user_name | Sin estadísticos generables. |\n",
    "| user_location | Sin estadísticos generables. |\n",
    "| user_description | Sin estadísticos generables. |\n",
    "| user_created | Sin estadísticos generables. |\n",
    "| user_followers | Una gran cantidad de los usuarios de la muestra se podrían considerar figuras públicas o líderes de opinión por su gran número de seguidores, mientras que una pequeña cantidad de los usuarios, son usuarios normales. |\n",
    "| user_friends | Los usuarios poseen un número grande de amigos |\n",
    "| user_favourites | Los usuarios en general son bastante activos en la plataforma por su gran número de publicaciones marcaas como favoritos. |\n",
    "| user_verified |  Una muy pequeña cantidad de los usuarios analizados poseen el estatus de verificado- |\n",
    "| date |  Sin estadísticos generables. |\n",
    "| text |  Sin estadísticos generables. |\n",
    "| hashtags | Sin estadísticos generables. |\n",
    "| source |  Sin estadísticos generables. |\n",
    "| is_retweet | ninguno de los tweets analizados es un retweet. |"
   ]
  }
 ],
 "metadata": {
  "kernelspec": {
   "display_name": "base",
   "language": "python",
   "name": "python3"
  },
  "language_info": {
   "codemirror_mode": {
    "name": "ipython",
    "version": 3
   },
   "file_extension": ".py",
   "mimetype": "text/x-python",
   "name": "python",
   "nbconvert_exporter": "python",
   "pygments_lexer": "ipython3",
   "version": "3.11.4"
  },
  "orig_nbformat": 4
 },
 "nbformat": 4,
 "nbformat_minor": 2
}
